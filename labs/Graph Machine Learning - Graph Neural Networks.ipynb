{
 "cells": [
  {
   "cell_type": "markdown",
   "id": "8097627f",
   "metadata": {},
   "source": [
    "Graph Machine Learning - Graph Neural Networks\n",
    "\n",
    "Env: pytorch_quant"
   ]
  },
  {
   "cell_type": "markdown",
   "id": "97d31386",
   "metadata": {},
   "source": [
    "$\\text{Given an IID dataset: } \\{(x_1,y_1),...,(x_N,y_N)\\}$\n",
    "\n",
    "Pick $\\theta$ that minimize the Loss \n",
    "\n",
    "$L(\\theta)=\\dfrac{1}{N}\\sum_i L(f_\\theta(x_i),y_i)$"
   ]
  },
  {
   "cell_type": "markdown",
   "id": "f09e90f3",
   "metadata": {},
   "source": [
    "While not converged, update parameters:\n",
    "\n",
    "$$\\theta = \\theta - \\gamma\\frac{\\partial L}{\\partial \\theta}$$"
   ]
  },
  {
   "cell_type": "markdown",
   "id": "7c10840e",
   "metadata": {},
   "source": [
    "PageRank\n",
    "\n",
    "$r = \\beta*M*r + \\dfrac{(1-\\beta)}{n}*p$\n",
    "\n",
    "Where $M$ is the stochastic adjacency matrix, $r$ is the PageRank vector, and $p$ is a stockastic vector (sum == 1) like *r* and represents the 'teleport' vector. Example:\n",
    "\n",
    "$p=[0.1,0.1,0.1,0.1,0.1,0.1,0.1,0.1,0.1,0.1]$\n",
    "\n",
    "In the case of the standard PageRank algorithm, $p$ has equal probabilities for a web page in the network.\n",
    "\n",
    "For Personalized PageRank, *p* is a weighted set of web pages based on user interest. Example:\n",
    "\n",
    "$p=[0.1,0,0,0.2,0,0,0.5,0,0,0.2] $\n",
    "\n",
    "For SimRank, *p* is a weighted set of web pages incorporating web page similarity metrics.\n",
    "\n",
    "For random walk with restarts, *p*, would be all zeros except for one value equal to one to bring you back to class from TikTok.\n",
    "\n",
    "$p=[0,0,0,0,𝟏,0,0,0,0,0,0]$\n",
    "\n"
   ]
  },
  {
   "cell_type": "markdown",
   "id": "1a1641f5",
   "metadata": {},
   "source": [
    "$min_{\\theta} L(y, f(x))$"
   ]
  },
  {
   "cell_type": "markdown",
   "id": "e8ffe29a",
   "metadata": {},
   "source": [
    "$\\Theta$"
   ]
  },
  {
   "cell_type": "markdown",
   "id": "ea447d6c",
   "metadata": {},
   "source": [
    "$L(y, f(x)) = ||y-f(x)||_2$"
   ]
  },
  {
   "cell_type": "markdown",
   "id": "8b9ec99d",
   "metadata": {},
   "source": [
    "$min_{\\Theta}L(y, f(x)) = ||y-f(x)||_2$"
   ]
  },
  {
   "cell_type": "markdown",
   "id": "f45dbe89",
   "metadata": {},
   "source": [
    "$CE(y, f(x)) = -\\sum_{i=1}^C(y_ilog(f(x)_i))$\n",
    "\n",
    "$L = \\sum_{(x,y)\\in T}CE(y, f(x))$\n",
    "\n",
    "$T$: training set containing paris of data and labels $(x,y)$"
   ]
  },
  {
   "cell_type": "code",
   "execution_count": null,
   "id": "54fad7ec",
   "metadata": {},
   "outputs": [],
   "source": []
  }
 ],
 "metadata": {
  "kernelspec": {
   "display_name": "pytorch_quant",
   "language": "python",
   "name": "pytorch_quant"
  },
  "language_info": {
   "codemirror_mode": {
    "name": "ipython",
    "version": 3
   },
   "file_extension": ".py",
   "mimetype": "text/x-python",
   "name": "python",
   "nbconvert_exporter": "python",
   "pygments_lexer": "ipython3",
   "version": "3.9.12"
  }
 },
 "nbformat": 4,
 "nbformat_minor": 5
}
