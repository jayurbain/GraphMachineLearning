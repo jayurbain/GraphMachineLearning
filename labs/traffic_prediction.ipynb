{
  "nbformat": 4,
  "nbformat_minor": 0,
  "metadata": {
    "colab": {
      "provenance": []
    },
    "kernelspec": {
      "name": "python3",
      "display_name": "Python 3"
    },
    "language_info": {
      "name": "python"
    },
    "accelerator": "GPU",
    "gpuClass": "standard"
  },
  "cells": [
    {
      "cell_type": "markdown",
      "metadata": {
        "id": "OVp0qeJL_nSm"
      },
      "source": [
        "# Traffic Forecasting with Pytorch Geometric Temporal\n"
      ]
    },
    {
      "cell_type": "markdown",
      "metadata": {
        "id": "MaEHCakD_s7q"
      },
      "source": [
        "## Installation"
      ]
    },
    {
      "cell_type": "code",
      "metadata": {
        "id": "svWjrrJxjp8B",
        "colab": {
          "base_uri": "https://localhost:8080/"
        },
        "outputId": "58e000d9-cacf-4500-a4c5-3cbe32563513"
      },
      "source": [
        "import torch\n",
        "from IPython.display import clear_output\n",
        "pt_version = torch.__version__\n",
        "print(pt_version)"
      ],
      "execution_count": 1,
      "outputs": [
        {
          "output_type": "stream",
          "name": "stdout",
          "text": [
            "1.13.1+cu116\n"
          ]
        }
      ]
    },
    {
      "cell_type": "markdown",
      "metadata": {
        "id": "824V69yXsSub"
      },
      "source": [
        "This takes some time, be patient :-)"
      ]
    },
    {
      "cell_type": "code",
      "metadata": {
        "id": "NjWHdw_Dj3KQ",
        "colab": {
          "base_uri": "https://localhost:8080/"
        },
        "outputId": "f24e0acc-aeb1-4e05-9990-5796c92a07a1"
      },
      "source": [
        "!pip install torch-scatter -f https://pytorch-geometric.com/whl/torch-${pt_version}.html\n",
        "!pip install torch-sparse -f https://pytorch-geometric.com/whl/torch-${pt_version}.html\n",
        "!pip install torch-cluster -f https://pytorch-geometric.com/whl/torch-${pt_version}.html\n",
        "!pip install torch-spline-conv -f https://pytorch-geometric.com/whl/torch-${pt_version}.html\n",
        "!pip install torch-geometric\n",
        "!pip install torch-geometric-temporal\n",
        "clear_output()"
      ],
      "execution_count": null,
      "outputs": [
        {
          "output_type": "stream",
          "name": "stdout",
          "text": [
            "Looking in indexes: https://pypi.org/simple, https://us-python.pkg.dev/colab-wheels/public/simple/\n",
            "Looking in links: https://pytorch-geometric.com/whl/torch-.13.1+cu116.html\n",
            "Collecting torch-scatter\n",
            "  Downloading torch_scatter-2.1.0.tar.gz (106 kB)\n",
            "\u001b[2K     \u001b[90m━━━━━━━━━━━━━━━━━━━━━━━━━━━━━━━━━━━━━━━\u001b[0m \u001b[32m106.8/106.8 KB\u001b[0m \u001b[31m4.1 MB/s\u001b[0m eta \u001b[36m0:00:00\u001b[0m\n",
            "\u001b[?25h  Preparing metadata (setup.py) ... \u001b[?25l\u001b[?25hdone\n",
            "Building wheels for collected packages: torch-scatter\n",
            "  Building wheel for torch-scatter (setup.py) ... \u001b[?25l\u001b[?25hdone\n",
            "  Created wheel for torch-scatter: filename=torch_scatter-2.1.0-cp38-cp38-linux_x86_64.whl size=3372325 sha256=4c60c4086308af3034212b029e07dcb0ab81efa7985254decd9c3bcde239ce36\n",
            "  Stored in directory: /root/.cache/pip/wheels/41/7f/4f/cf072bea3b6efe4561de2db3603ebbd8718c134c24caab8281\n",
            "Successfully built torch-scatter\n",
            "Installing collected packages: torch-scatter\n",
            "Successfully installed torch-scatter-2.1.0\n",
            "Looking in indexes: https://pypi.org/simple, https://us-python.pkg.dev/colab-wheels/public/simple/\n",
            "Looking in links: https://pytorch-geometric.com/whl/torch-.13.1+cu116.html\n",
            "Collecting torch-sparse\n",
            "  Downloading torch_sparse-0.6.16.tar.gz (208 kB)\n",
            "\u001b[2K     \u001b[90m━━━━━━━━━━━━━━━━━━━━━━━━━━━━━━━━━━━━━━\u001b[0m \u001b[32m208.2/208.2 KB\u001b[0m \u001b[31m17.6 MB/s\u001b[0m eta \u001b[36m0:00:00\u001b[0m\n",
            "\u001b[?25h  Preparing metadata (setup.py) ... \u001b[?25l\u001b[?25hdone\n",
            "Requirement already satisfied: scipy in /usr/local/lib/python3.8/dist-packages (from torch-sparse) (1.7.3)\n",
            "Requirement already satisfied: numpy<1.23.0,>=1.16.5 in /usr/local/lib/python3.8/dist-packages (from scipy->torch-sparse) (1.21.6)\n",
            "Building wheels for collected packages: torch-sparse\n"
          ]
        }
      ]
    },
    {
      "cell_type": "markdown",
      "metadata": {
        "id": "W2nTO8PH_vlf"
      },
      "source": [
        "## Dataset\n",
        "- Traffic forecasting dataset based on Los Angeles Metropolitan traffic \n",
        "- 207 loop detectors on highways\n",
        "- March 2012 - June 2012\n",
        "- From the paper: Diffusion Convolutional Recurrent Neural Network\n"
      ]
    },
    {
      "cell_type": "code",
      "metadata": {
        "id": "iOc-jbFckFHn",
        "colab": {
          "base_uri": "https://localhost:8080/"
        },
        "outputId": "81e9bc1f-704a-486d-8ddc-fd6dc0ee479f"
      },
      "source": [
        "import numpy as np\n",
        "from torch_geometric_temporal.dataset import METRLADatasetLoader\n",
        "from torch_geometric_temporal.signal import StaticGraphTemporalSignal\n",
        "\n",
        "loader = METRLADatasetLoader()\n",
        "dataset = loader.get_dataset(num_timesteps_in=12, num_timesteps_out=12)\n",
        "\n",
        "print(\"Dataset type:  \", dataset)\n",
        "print(\"Number of samples / sequences: \",  len(set(dataset)))"
      ],
      "execution_count": null,
      "outputs": [
        {
          "output_type": "stream",
          "name": "stdout",
          "text": [
            "Dataset type:   <torch_geometric_temporal.signal.static_graph_temporal_signal.StaticGraphTemporalSignal object at 0x7f455e5315d0>\n",
            "Number of samples / sequences:  34249\n"
          ]
        }
      ]
    },
    {
      "cell_type": "markdown",
      "metadata": {
        "id": "r2zO_CjYBQSt"
      },
      "source": [
        "#### Data Sample\n",
        "- 207 nodes\n",
        "- 2 features per node (speed, time)\n",
        "- 12 timesteps per bucket (12 x 5 min = 60 min) \n",
        "- Labels for 12 future timesteps (normalized speed) --> node regression\n",
        "- Edge_attr is build based on the distances between sensors + threshold\n",
        "- Further details: https://pytorch-geometric-temporal.readthedocs.io/en/latest/_modules/torch_geometric_temporal/dataset/metr_la.html#METRLADatasetLoader\n",
        "- Raw data: https://graphmining.ai/temporal_datasets/METR-LA.zip"
      ]
    },
    {
      "cell_type": "code",
      "metadata": {
        "colab": {
          "base_uri": "https://localhost:8080/"
        },
        "id": "ClWnMrz0Anjr",
        "outputId": "58cb2583-0294-4cdf-cd54-a9959fb212b9"
      },
      "source": [
        "# Show first sample\n",
        "next(iter(dataset))"
      ],
      "execution_count": null,
      "outputs": [
        {
          "output_type": "execute_result",
          "data": {
            "text/plain": [
              "Data(x=[207, 2, 12], edge_index=[2, 1722], edge_attr=[1722], y=[207, 12])"
            ]
          },
          "metadata": {},
          "execution_count": 13
        }
      ]
    },
    {
      "cell_type": "code",
      "metadata": {
        "colab": {
          "base_uri": "https://localhost:8080/"
        },
        "id": "TL3fnTZyQIQz",
        "outputId": "b7974f42-e3d5-45d5-d0f2-ae55edcd03ef"
      },
      "source": [
        "# Important: It is not always like that!\n",
        "from torch_geometric_temporal.dataset import ChickenpoxDatasetLoader\n",
        "d = ChickenpoxDatasetLoader().get_dataset(lags=4)\n",
        "next(iter(d))"
      ],
      "execution_count": null,
      "outputs": [
        {
          "output_type": "execute_result",
          "data": {
            "text/plain": [
              "Data(x=[20, 4], edge_index=[2, 102], edge_attr=[102], y=[20])"
            ]
          },
          "metadata": {},
          "execution_count": 14
        }
      ]
    },
    {
      "cell_type": "markdown",
      "metadata": {
        "id": "Df8yjwxoA69S"
      },
      "source": [
        "You can always have a look at the source-code to see how a dataset is constructed. Chickenpox would be a classical \"predict-next-timestep\" dataset (the label is one step later than the features).  \n",
        "METR-LA would be a sequence-to-sequence prediction dataset that predicts further into the future than just the next timestep. You can also see, that the features are used as label as well.\n",
        "\n",
        "\n",
        "\n",
        "```\n",
        "# >>> From the ChickenpoxDatasetLoader <<<\n",
        "self.features = [\n",
        "            stacked_target[i : i + self.lags, :].T\n",
        "            for i in range(stacked_target.shape[0] - self.lags)\n",
        "        ]\n",
        "self.targets = [\n",
        "            stacked_target[i + self.lags, :].T  \n",
        "            for i in range(stacked_target.shape[0] - self.lags)\n",
        "        ]\n",
        "\n",
        "# >>> From METRLADatasetLoader <<<\n",
        "indices = [\n",
        "            (i, i + (num_timesteps_in + num_timesteps_out))\n",
        "            for i in range(self.X.shape[2] - (num_timesteps_in + num_timesteps_out) + 1)\n",
        "        ]\n",
        "for i, j in indices:\n",
        "            features.append((self.X[:, :, i : i + num_timesteps_in]).numpy())\n",
        "            target.append((self.X[:, 0, i + num_timesteps_in : j]).numpy())\n",
        "```\n",
        "\n"
      ]
    },
    {
      "cell_type": "code",
      "metadata": {
        "colab": {
          "base_uri": "https://localhost:8080/",
          "height": 282
        },
        "id": "EzrkqXPxFwIx",
        "outputId": "ab0d29d3-88e2-4fc6-8ad3-7f8a0b0ab773"
      },
      "source": [
        "import seaborn as sns\n",
        "# Visualize traffic over time\n",
        "sensor_number = 1\n",
        "hours = 24\n",
        "sensor_labels = [bucket.y[sensor_number][0].item() for bucket in list(dataset)[:hours]]\n",
        "sns.lineplot(data=sensor_labels)"
      ],
      "execution_count": null,
      "outputs": [
        {
          "output_type": "execute_result",
          "data": {
            "text/plain": [
              "<matplotlib.axes._subplots.AxesSubplot at 0x7f455d15d310>"
            ]
          },
          "metadata": {},
          "execution_count": 15
        },
        {
          "output_type": "display_data",
          "data": {
            "text/plain": [
              "<Figure size 432x288 with 1 Axes>"
            ],
            "image/png": "[encoded data removed]"
          },
          "metadata": {
            "needs_background": "light"
          }
        }
      ]
    },
    {
      "cell_type": "markdown",
      "metadata": {
        "id": "8ZqDAqQdBS8Q"
      },
      "source": [
        "#### Test Train Split"
      ]
    },
    {
      "cell_type": "code",
      "metadata": {
        "id": "ZMn2LXERsyVK",
        "colab": {
          "base_uri": "https://localhost:8080/"
        },
        "outputId": "63e79780-f848-4024-8d58-787557665ee0"
      },
      "source": [
        "from torch_geometric_temporal.signal import temporal_signal_split\n",
        "train_dataset, test_dataset = temporal_signal_split(dataset, train_ratio=0.8)\n",
        "\n",
        "print(\"Number of train buckets: \", len(set(train_dataset)))\n",
        "print(\"Number of test buckets: \", len(set(test_dataset)))"
      ],
      "execution_count": null,
      "outputs": [
        {
          "output_type": "stream",
          "name": "stdout",
          "text": [
            "Number of train buckets:  27399\n",
            "Number of test buckets:  6850\n"
          ]
        }
      ]
    },
    {
      "cell_type": "markdown",
      "metadata": {
        "id": "n1puzm8U_xpY"
      },
      "source": [
        "## Model\n",
        "\n",
        "Which model to choose depends on which time-series task you work on. \n",
        "\n",
        "- A3TGCN is an extension of TGCN that uses attention \n",
        "- The spatial aggregation uses GCN, the temporal aggregation a GRU\n",
        "- We can pass in periods to get an embedding for several timesteps\n",
        "- This embedding can be used to predict several steps into the future = output dimension\n",
        "- We could also do this in a loop and feed it again into the model (would be autoregressive)\n",
        "- There is only one block here. Other layers also allow stacking???"
      ]
    },
    {
      "cell_type": "code",
      "metadata": {
        "id": "gQB8MPV0sU4K",
        "colab": {
          "base_uri": "https://localhost:8080/"
        },
        "outputId": "b730dbee-4464-456e-8e87-889efd9d98fb"
      },
      "source": [
        "import torch\n",
        "import torch.nn.functional as F\n",
        "from torch_geometric_temporal.nn.recurrent import A3TGCN\n",
        "\n",
        "class TemporalGNN(torch.nn.Module):\n",
        "    def __init__(self, node_features, periods):\n",
        "        super(TemporalGNN, self).__init__()\n",
        "        # Attention Temporal Graph Convolutional Cell\n",
        "        self.tgnn = A3TGCN(in_channels=node_features, \n",
        "                           out_channels=32, \n",
        "                           periods=periods)\n",
        "        # Equals single-shot prediction\n",
        "        self.linear = torch.nn.Linear(32, periods)\n",
        "\n",
        "    def forward(self, x, edge_index):\n",
        "        \"\"\"\n",
        "        x = Node features for T time steps\n",
        "        edge_index = Graph edge indices\n",
        "        \"\"\"\n",
        "        h = self.tgnn(x, edge_index)\n",
        "        h = F.relu(h)\n",
        "        h = self.linear(h)\n",
        "        return h\n",
        "\n",
        "TemporalGNN(node_features=2, periods=12)"
      ],
      "execution_count": null,
      "outputs": [
        {
          "output_type": "execute_result",
          "data": {
            "text/plain": [
              "TemporalGNN(\n",
              "  (tgnn): A3TGCN(\n",
              "    (_base_tgcn): TGCN(\n",
              "      (conv_z): GCNConv(2, 32)\n",
              "      (linear_z): Linear(in_features=64, out_features=32, bias=True)\n",
              "      (conv_r): GCNConv(2, 32)\n",
              "      (linear_r): Linear(in_features=64, out_features=32, bias=True)\n",
              "      (conv_h): GCNConv(2, 32)\n",
              "      (linear_h): Linear(in_features=64, out_features=32, bias=True)\n",
              "    )\n",
              "  )\n",
              "  (linear): Linear(in_features=32, out_features=12, bias=True)\n",
              ")"
            ]
          },
          "metadata": {},
          "execution_count": 25
        }
      ]
    },
    {
      "cell_type": "markdown",
      "metadata": {
        "id": "RDbNmvO2_znb"
      },
      "source": [
        "## Training\n",
        "\n",
        "- Training on GPU didn't bring much speed-up\n",
        "- I ran into RAM issues, why I only train on a smaller subset of the data"
      ]
    },
    {
      "cell_type": "code",
      "metadata": {
        "colab": {
          "base_uri": "https://localhost:8080/"
        },
        "id": "7kOvaOrps2oe",
        "outputId": "056663e4-c4b7-47eb-f4e9-fec088272fe7"
      },
      "source": [
        "# GPU support\n",
        "device = torch.device('cpu') # cuda\n",
        "subset = 2000\n",
        "\n",
        "# Create model and optimizers\n",
        "model = TemporalGNN(node_features=2, periods=12).to(device)\n",
        "optimizer = torch.optim.Adam(model.parameters(), lr=0.01)\n",
        "model.train()\n",
        "\n",
        "print(\"Running training...\")\n",
        "for epoch in range(10): \n",
        "    loss = 0\n",
        "    step = 0\n",
        "    for snapshot in train_dataset:\n",
        "        snapshot = snapshot.to(device)\n",
        "        # Get model predictions\n",
        "        y_hat = model(snapshot.x, snapshot.edge_index)\n",
        "        # Mean squared error\n",
        "        loss = loss + torch.mean((y_hat-snapshot.y)**2) \n",
        "        step += 1\n",
        "        if step > subset:\n",
        "          break\n",
        "\n",
        "    loss = loss / (step + 1)\n",
        "    loss.backward()\n",
        "    optimizer.step()\n",
        "    optimizer.zero_grad()\n",
        "    print(\"Epoch {} train MSE: {:.4f}\".format(epoch, loss.item()))"
      ],
      "execution_count": null,
      "outputs": [
        {
          "output_type": "stream",
          "name": "stdout",
          "text": [
            "Running training...\n"
          ]
        }
      ]
    },
    {
      "cell_type": "markdown",
      "metadata": {
        "id": "X18pWbNsPSjb"
      },
      "source": [
        "## Evaluation\n",
        "\n",
        "- Lets get some sample predictions for a specific horizon (e.g. 288/12 = 24 hours)\n",
        "- The model always gets one hour and needs to predict the next hour"
      ]
    },
    {
      "cell_type": "code",
      "metadata": {
        "id": "hNERp-_xs27y"
      },
      "source": [
        "model.eval()\n",
        "loss = 0\n",
        "step = 0\n",
        "horizon = 288\n",
        "\n",
        "# Store for analysis\n",
        "predictions = []\n",
        "labels = []\n",
        "\n",
        "for snapshot in test_dataset:\n",
        "    snapshot = snapshot.to(device)\n",
        "    # Get predictions\n",
        "    y_hat = model(snapshot.x, snapshot.edge_index)\n",
        "    # Mean squared error\n",
        "    loss = loss + torch.mean((y_hat-snapshot.y)**2)\n",
        "    # Store for analysis below\n",
        "    labels.append(snapshot.y)\n",
        "    predictions.append(y_hat)\n",
        "    step += 1\n",
        "    if step > horizon:\n",
        "          break\n",
        "\n",
        "loss = loss / (step+1)\n",
        "loss = loss.item()\n",
        "print(\"Test MSE: {:.4f}\".format(loss))"
      ],
      "execution_count": null,
      "outputs": []
    },
    {
      "cell_type": "markdown",
      "metadata": {
        "id": "wIVZyX1b_IPA"
      },
      "source": [
        "### Visualization\n",
        "\n",
        "- The further away the point in time is, the worse the predictions get\n",
        "- Predictions shape: [num_data_points, num_sensors, num_timesteps]"
      ]
    },
    {
      "cell_type": "code",
      "metadata": {
        "colab": {
          "base_uri": "https://localhost:8080/"
        },
        "id": "J5AJPBdRMb4b",
        "outputId": "97e74597-a5d9-42d6-b31f-e4dcfb61e7f7"
      },
      "source": [
        "import numpy as np\n",
        "\n",
        "sensor = 123\n",
        "timestep = 11 \n",
        "preds = np.asarray([pred[sensor][timestep].detach().cpu().numpy() for pred in predictions])\n",
        "labs  = np.asarray([label[sensor][timestep].cpu().numpy() for label in labels])\n",
        "print(\"Data points:,\", preds.shape)"
      ],
      "execution_count": null,
      "outputs": [
        {
          "output_type": "stream",
          "name": "stdout",
          "text": [
            "Data points:, (289,)\n"
          ]
        }
      ]
    },
    {
      "cell_type": "code",
      "metadata": {
        "colab": {
          "base_uri": "https://localhost:8080/",
          "height": 337
        },
        "id": "08wwv2qUR7z9",
        "outputId": "320807bf-8403-4dbf-d43b-4e1575d51f69"
      },
      "source": [
        "import matplotlib.pyplot as plt \n",
        "plt.figure(figsize=(20,5))\n",
        "sns.lineplot(data=preds, label=\"pred\")\n",
        "sns.lineplot(data=labs, label=\"true\")"
      ],
      "execution_count": null,
      "outputs": [
        {
          "output_type": "execute_result",
          "data": {
            "text/plain": [
              "<matplotlib.axes._subplots.AxesSubplot at 0x7f7b14858950>"
            ]
          },
          "metadata": {},
          "execution_count": 38
        },
        {
          "output_type": "display_data",
          "data": {
            "image/png": "[encoded data removed]",
            "text/plain": [
              "<Figure size 1440x360 with 1 Axes>"
            ]
          },
          "metadata": {
            "needs_background": "light"
          }
        }
      ]
    },
    {
      "cell_type": "code",
      "metadata": {
        "id": "g3GC5nmwSde0"
      },
      "source": [],
      "execution_count": null,
      "outputs": []
    }
  ]
}