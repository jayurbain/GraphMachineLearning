{
 "cells": [
  {
   "cell_type": "markdown",
   "id": "8d85dcff",
   "metadata": {},
   "source": [
    "## Building a Logistic Regression Classifier in PyTorch\n",
    "\n",
    "Jay Urbain, PhD\n",
    "\n",
    "12/30/2022\n",
    "\n",
    "Logistic regression is a type of regression that predicts the probability of an event (see class slides). \n",
    "\n",
    "It is used for classification problems and has many applications in  machine learning.\n",
    "\n",
    "The formula of logistic regression is to apply a sigmoid function to the output of a linear function."
   ]
  },
  {
   "cell_type": "markdown",
   "id": "0f9f81a2",
   "metadata": {},
   "source": [
    "#### The MNIST Dataset\n",
    "\n",
    "The MNIST Dataset dataset contains 6000 images for training and 10000 images for testing the out-of-sample performance.\n",
    "\n",
    "The MNIST dataset is a benchmark dataset and is part of PyTorch. \n",
    "\n",
    "Here is how you can load the training and testing samples of the MNIST dataset in PyTorch.\n",
    "\n",
    "The dataset will be downloaded and extracted to the data directory.\n",
    "\n"
   ]
  },
  {
   "cell_type": "code",
   "execution_count": 2,
   "id": "27a513a6",
   "metadata": {},
   "outputs": [
    {
     "name": "stdout",
     "output_type": "stream",
     "text": [
      "/Users/jayurbain/Dropbox/GraphMachineLearning_/GraphMachineLearning/work\r\n"
     ]
    }
   ],
   "source": [
    "!pwd"
   ]
  },
  {
   "cell_type": "code",
   "execution_count": 4,
   "id": "8074e07e",
   "metadata": {},
   "outputs": [],
   "source": [
    "import torchvision.transforms as transforms\n",
    "from torchvision import datasets\n",
    " \n",
    "# loading training data\n",
    "train_dataset = datasets.MNIST(root='./data', \n",
    "                               train=True, \n",
    "                               transform=transforms.ToTensor(),\n",
    "                               download=True)\n",
    "#loading test data\n",
    "test_dataset = datasets.MNIST(root='./data', \n",
    "                              train=False, \n",
    "                              transform=transforms.ToTensor())"
   ]
  },
  {
   "cell_type": "markdown",
   "id": "ddafe1ea",
   "metadata": {},
   "source": [
    "Verify download"
   ]
  },
  {
   "cell_type": "code",
   "execution_count": 6,
   "id": "9eac1b90",
   "metadata": {},
   "outputs": [
    {
     "name": "stdout",
     "output_type": "stream",
     "text": [
      "number of training samples: 60000\n",
      "number of testing samples: 10000\n"
     ]
    }
   ],
   "source": [
    "print(\"number of training samples: \" + str(len(train_dataset)) + \"\\n\" +\n",
    "      \"number of testing samples: \" + str(len(test_dataset)))"
   ]
  },
  {
   "cell_type": "markdown",
   "id": "969586f0",
   "metadata": {},
   "source": [
    "ou can access samples from a dataset using list indexing. \n",
    "\n",
    "The first sample in the dataset is a FloatTensor and it is a 28x28-pixel image in grayscale (i.e., one channel), hence the size [1, 28, 28].\n",
    "\n",
    "Check the labels of the first two samples in the training set.\n"
   ]
  },
  {
   "cell_type": "code",
   "execution_count": 8,
   "id": "ce90035d",
   "metadata": {},
   "outputs": [
    {
     "name": "stdout",
     "output_type": "stream",
     "text": [
      "label of the first taining sample:  5\n",
      "label of the second taining sample:  0\n"
     ]
    }
   ],
   "source": [
    "# check the label of first two training sample\n",
    "print(\"label of the first taining sample: \", train_dataset[0][1])\n",
    "print(\"label of the second taining sample: \", train_dataset[1][1])"
   ]
  },
  {
   "cell_type": "markdown",
   "id": "ec21baa6",
   "metadata": {},
   "source": [
    "Display the images:"
   ]
  },
  {
   "cell_type": "code",
   "execution_count": 12,
   "id": "a78ac208",
   "metadata": {
    "scrolled": false
   },
   "outputs": [
    {
     "data": {
      "image/png": "[encoded data removed]",
      "text/plain": [
       "<Figure size 640x480 with 1 Axes>"
      ]
     },
     "metadata": {},
     "output_type": "display_data"
    },
    {
     "data": {
      "image/png": "[encoded data removed]",
      "text/plain": [
       "<Figure size 640x480 with 1 Axes>"
      ]
     },
     "metadata": {},
     "output_type": "display_data"
    }
   ],
   "source": [
    "import matplotlib.pyplot as plt\n",
    "\n",
    "img_5 = train_dataset[0][0].numpy().reshape(28, 28)\n",
    "plt.imshow(img_5, cmap='gray')\n",
    "plt.show()\n",
    "img_0 = train_dataset[1][0].numpy().reshape(28, 28)\n",
    "plt.imshow(img_0, cmap='gray')\n",
    "plt.show()"
   ]
  },
  {
   "cell_type": "markdown",
   "id": "59cb265b",
   "metadata": {},
   "source": [
    "PyTorch has two primitives to work with data: torch.utils.data.DataLoader and torch.utils.data.Dataset. Dataset stores the samples and their corresponding labels, and DataLoader wraps an iterable around the Dataset."
   ]
  },
  {
   "cell_type": "markdown",
   "id": "720935d9",
   "metadata": {},
   "source": [
    "#### Load Dataset into DataLoader\n",
    "\n",
    "Note: you do not use the dataset directly in training but through a `DataLoader` class. This allows you to read data in batches, not samples. It also always you to preprocess the data.\n",
    "\n",
    "Load data is loaded into a DataLoader with batch size at 32."
   ]
  },
  {
   "cell_type": "code",
   "execution_count": 15,
   "id": "e2f4577e",
   "metadata": {},
   "outputs": [],
   "source": [
    "from torch.utils.data import DataLoader\n",
    "\n",
    "# load train and test data samples into dataloader\n",
    "batach_size = 32\n",
    "train_loader = DataLoader(dataset=train_dataset, batch_size=batach_size, shuffle=True) \n",
    "test_loader = DataLoader(dataset=test_dataset, batch_size=batach_size, shuffle=False)"
   ]
  },
  {
   "cell_type": "markdown",
   "id": "be919e4f",
   "metadata": {},
   "source": [
    "#### Build the Model with `nn.Module`\n",
    "\n",
    "Build the model class with `nn.Module` for the logistic regression model. "
   ]
  },
  {
   "cell_type": "code",
   "execution_count": 18,
   "id": "a9482e2d",
   "metadata": {},
   "outputs": [],
   "source": [
    "import torch\n",
    "\n",
    "# build custom module for logistic regression\n",
    "class LogisticRegression(torch.nn.Module):    \n",
    "    # build the constructor\n",
    "    def __init__(self, n_inputs, n_outputs):\n",
    "        super(LogisticRegression, self).__init__()\n",
    "        self.linear = torch.nn.Linear(n_inputs, n_outputs)\n",
    "    # make predictions\n",
    "    def forward(self, x):\n",
    "        y_pred = torch.sigmoid(self.linear(x))\n",
    "        return y_pred"
   ]
  },
  {
   "cell_type": "markdown",
   "id": "d3488ad6",
   "metadata": {},
   "source": [
    "This model will take a 28x28-pixel image of handwritten digits as input and classify them into one of the 10 output classes of digits 0 to 9. So, here is how you can instantiate the model.\n"
   ]
  },
  {
   "cell_type": "code",
   "execution_count": 19,
   "id": "0ef6fcd4",
   "metadata": {},
   "outputs": [],
   "source": [
    "# instantiate the model\n",
    "n_inputs = 28*28 # makes a 1D vector of 784\n",
    "n_outputs = 10\n",
    "log_regr = LogisticRegression(n_inputs, n_outputs)"
   ]
  },
  {
   "cell_type": "markdown",
   "id": "a680ee51",
   "metadata": {},
   "source": [
    "#### Training the Classifier\n",
    "\n",
    "Train this model with stochastic gradient descent as the optimizer with learning rate `0.001` and cross-entropy as the loss metric.\n",
    "\n",
    "Then, the model is trained for `50` epochs. \n",
    "\n",
    "Note: You have use the `view()` method to flatten the image matrices into rows to fit the the logistic regression model input.\n",
    "\n"
   ]
  },
  {
   "cell_type": "code",
   "execution_count": 21,
   "id": "38fa3410",
   "metadata": {},
   "outputs": [
    {
     "name": "stdout",
     "output_type": "stream",
     "text": [
      "Epoch: 0. Loss: 2.194711685180664. Accuracy: 64.23\n",
      "Epoch: 1. Loss: 2.0938472747802734. Accuracy: 73.5\n",
      "Epoch: 2. Loss: 2.0086636543273926. Accuracy: 76.82\n",
      "Epoch: 3. Loss: 2.01739239692688. Accuracy: 78.99\n",
      "Epoch: 4. Loss: 1.9482910633087158. Accuracy: 80.27\n",
      "Epoch: 5. Loss: 1.961714267730713. Accuracy: 80.89\n",
      "Epoch: 6. Loss: 1.9112533330917358. Accuracy: 81.42\n",
      "Epoch: 7. Loss: 1.8736302852630615. Accuracy: 81.93\n",
      "Epoch: 8. Loss: 1.8654197454452515. Accuracy: 82.35\n",
      "Epoch: 9. Loss: 1.8651485443115234. Accuracy: 82.64\n",
      "Epoch: 10. Loss: 1.8776490688323975. Accuracy: 82.84\n",
      "Epoch: 11. Loss: 1.8514214754104614. Accuracy: 83.06\n",
      "Epoch: 12. Loss: 1.7732685804367065. Accuracy: 83.21\n",
      "Epoch: 13. Loss: 1.8212530612945557. Accuracy: 83.46\n",
      "Epoch: 14. Loss: 1.8138841390609741. Accuracy: 83.68\n",
      "Epoch: 15. Loss: 1.7849153280258179. Accuracy: 83.8\n",
      "Epoch: 16. Loss: 1.7820781469345093. Accuracy: 84.03\n",
      "Epoch: 17. Loss: 1.8000249862670898. Accuracy: 84.2\n",
      "Epoch: 18. Loss: 1.7725210189819336. Accuracy: 84.37\n",
      "Epoch: 19. Loss: 1.7516494989395142. Accuracy: 84.53\n",
      "Epoch: 20. Loss: 1.7263184785842896. Accuracy: 84.58\n",
      "Epoch: 21. Loss: 1.7633694410324097. Accuracy: 84.75\n",
      "Epoch: 22. Loss: 1.7295345067977905. Accuracy: 84.89\n",
      "Epoch: 23. Loss: 1.7351281642913818. Accuracy: 84.95\n",
      "Epoch: 24. Loss: 1.7909812927246094. Accuracy: 85.12\n",
      "Epoch: 25. Loss: 1.696803331375122. Accuracy: 85.21\n",
      "Epoch: 26. Loss: 1.8187578916549683. Accuracy: 85.26\n",
      "Epoch: 27. Loss: 1.7041245698928833. Accuracy: 85.33\n",
      "Epoch: 28. Loss: 1.789260983467102. Accuracy: 85.39\n",
      "Epoch: 29. Loss: 1.7986226081848145. Accuracy: 85.45\n",
      "Epoch: 30. Loss: 1.7966395616531372. Accuracy: 85.47\n",
      "Epoch: 31. Loss: 1.6888387203216553. Accuracy: 85.53\n",
      "Epoch: 32. Loss: 1.7154881954193115. Accuracy: 85.58\n",
      "Epoch: 33. Loss: 1.694448709487915. Accuracy: 85.64\n",
      "Epoch: 34. Loss: 1.7007637023925781. Accuracy: 85.76\n",
      "Epoch: 35. Loss: 1.735907793045044. Accuracy: 85.83\n",
      "Epoch: 36. Loss: 1.7084107398986816. Accuracy: 85.88\n",
      "Epoch: 37. Loss: 1.7336933612823486. Accuracy: 85.97\n",
      "Epoch: 38. Loss: 1.6794235706329346. Accuracy: 85.94\n",
      "Epoch: 39. Loss: 1.6947158575057983. Accuracy: 85.98\n",
      "Epoch: 40. Loss: 1.7754178047180176. Accuracy: 86.04\n",
      "Epoch: 41. Loss: 1.657296061515808. Accuracy: 86.06\n",
      "Epoch: 42. Loss: 1.7054705619812012. Accuracy: 86.13\n",
      "Epoch: 43. Loss: 1.65731942653656. Accuracy: 86.16\n",
      "Epoch: 44. Loss: 1.6898322105407715. Accuracy: 86.19\n",
      "Epoch: 45. Loss: 1.6487858295440674. Accuracy: 86.23\n",
      "Epoch: 46. Loss: 1.6154171228408813. Accuracy: 86.28\n",
      "Epoch: 47. Loss: 1.6883044242858887. Accuracy: 86.34\n",
      "Epoch: 48. Loss: 1.6589922904968262. Accuracy: 86.39\n",
      "Epoch: 49. Loss: 1.6417906284332275. Accuracy: 86.41\n"
     ]
    }
   ],
   "source": [
    "# defining the optimizer\n",
    "optimizer = torch.optim.SGD(log_regr.parameters(), lr=0.001)\n",
    "# defining Cross-Entropy loss\n",
    "criterion = torch.nn.CrossEntropyLoss()\n",
    "\n",
    "epochs = 50\n",
    "Loss = []\n",
    "acc = []\n",
    "for epoch in range(epochs):\n",
    "    for i, (images, labels) in enumerate(train_loader):\n",
    "        optimizer.zero_grad()\n",
    "        outputs = log_regr(images.view(-1, 28*28))\n",
    "        loss = criterion(outputs, labels)\n",
    "        # Loss.append(loss.item())\n",
    "        loss.backward()\n",
    "        optimizer.step()\n",
    "    Loss.append(loss.item())\n",
    "    correct = 0\n",
    "    for images, labels in test_loader:\n",
    "        outputs = log_regr(images.view(-1, 28*28))\n",
    "        _, predicted = torch.max(outputs.data, 1)\n",
    "        correct += (predicted == labels).sum()\n",
    "    accuracy = 100 * (correct.item()) / len(test_dataset)\n",
    "    acc.append(accuracy)\n",
    "    print('Epoch: {}. Loss: {}. Accuracy: {}'.format(epoch, loss.item(), accuracy))"
   ]
  },
  {
   "cell_type": "markdown",
   "id": "8314d5c5",
   "metadata": {},
   "source": [
    "Plot the loss and accuracy. Accuracy can be improved further if the model is trained longer."
   ]
  },
  {
   "cell_type": "code",
   "execution_count": 22,
   "id": "2ceb3e46",
   "metadata": {},
   "outputs": [
    {
     "data": {
      "image/png": "[encoded data removed]",
      "text/plain": [
       "<Figure size 640x480 with 1 Axes>"
      ]
     },
     "metadata": {},
     "output_type": "display_data"
    }
   ],
   "source": [
    "plt.plot(Loss)\n",
    "plt.xlabel(\"no. of epochs\")\n",
    "plt.ylabel(\"total loss\")\n",
    "plt.title(\"Loss\")\n",
    "plt.show()"
   ]
  },
  {
   "cell_type": "code",
   "execution_count": 23,
   "id": "f9306e8f",
   "metadata": {
    "scrolled": true
   },
   "outputs": [
    {
     "data": {
      "image/png": "[encoded data removed]",
      "text/plain": [
       "<Figure size 640x480 with 1 Axes>"
      ]
     },
     "metadata": {},
     "output_type": "display_data"
    }
   ],
   "source": [
    "plt.plot(acc)\n",
    "plt.xlabel(\"no. of epochs\")\n",
    "plt.ylabel(\"total accuracy\")\n",
    "plt.title(\"Accuracy\")\n",
    "plt.show()"
   ]
  },
  {
   "cell_type": "code",
   "execution_count": null,
   "id": "821cf6f3",
   "metadata": {},
   "outputs": [],
   "source": []
  }
 ],
 "metadata": {
  "kernelspec": {
   "display_name": "pytorch_quant",
   "language": "python",
   "name": "pytorch_quant"
  },
  "language_info": {
   "codemirror_mode": {
    "name": "ipython",
    "version": 3
   },
   "file_extension": ".py",
   "mimetype": "text/x-python",
   "name": "python",
   "nbconvert_exporter": "python",
   "pygments_lexer": "ipython3",
   "version": "3.9.12"
  }
 },
 "nbformat": 4,
 "nbformat_minor": 5
}
