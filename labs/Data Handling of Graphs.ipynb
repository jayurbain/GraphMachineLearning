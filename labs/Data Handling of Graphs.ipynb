{
 "cells": [
  {
   "cell_type": "markdown",
   "id": "bb453767",
   "metadata": {},
   "source": [
    "## Data Handling of Graphs\n",
    "\n",
    "9/27/2022\n",
    "\n",
    "Installation:\n",
    "\n",
    "1. Install Pytorch Geometric\n",
    "https://pytorch-geometric.readthedocs.io/en/latest/notes/installation.html\n",
    "\n",
    "    Note: Mac M1 with acceleration:   \n",
    "    https://pytorch.org/get-started/locally/ \n",
    " \n",
    "2. Install scikit-learn  \n",
    "https://scikit-learn.org/stable/install.html    \n",
    "\n",
    "3. Install networkx   \n",
    "https://networkx.org/documentation/stable/install.html    \n",
    "\n",
    "\n",
    "#### Pytorch Geometric (PyG) - Graph Data Object\n",
    "A graph is used to model pairwise relations (edges) between objects (nodes). A single graph in PyG is described by an instance of torch_geometric.data.Data, which holds the following attributes by default:\n",
    "\n",
    "data.x: Node feature matrix with shape [num_nodes, num_node_features]\n",
    "\n",
    "data.edge_index: Graph connectivity in COO (coordinate list) format with shape [2, num_edges] and type torch.long\n",
    "\n",
    "data.edge_attr: Edge feature matrix with shape [num_edges, num_edge_features]\n",
    "\n",
    "data.y: Target to train against (may have arbitrary shape), e.g., node-level targets of shape [num_nodes, *] or graph-level targets of shape [1, *]\n",
    "\n",
    "data.pos: Node position matrix with shape [num_nodes, num_dimensions]\n",
    "\n",
    "None of these attributes are required. In fact, the Data object is not even restricted to these attributes. We can, e.g., extend it by data.face to save the connectivity of triangles from a 3D mesh in a tensor with shape [3, num_faces] and type torch.long.\n",
    "\n"
   ]
  },
  {
   "cell_type": "markdown",
   "id": "f52c1fa8",
   "metadata": {},
   "source": [
    "A simple example of an unweighted and undirected graph with three nodes and four edges. Edges between 0-1 and 1-2. Each node contains exactly one feature:"
   ]
  },
  {
   "cell_type": "code",
   "execution_count": null,
   "id": "35c0de7c",
   "metadata": {},
   "outputs": [],
   "source": [
    "import torch\n",
    "from torch_geometric.data import Data\n",
    "\n",
    "edge_index = torch.tensor([[0, 1, 1, 2],\n",
    "                           [1, 0, 2, 1]], dtype=torch.long)\n",
    "x = torch.tensor([[-1], [0], [1]], dtype=torch.float)\n",
    "\n",
    "data = Data(x=x, edge_index=edge_index)\n",
    "\n",
    "data"
   ]
  },
  {
   "cell_type": "markdown",
   "id": "ce368880",
   "metadata": {},
   "source": [
    "![](graph_data_1.svg)"
   ]
  },
  {
   "cell_type": "markdown",
   "id": "fd517ddf",
   "metadata": {},
   "source": [
    "Note: edge_index, i.e. the tensor defining the source and target nodes of all edges, is not a list of index tuples. If you want to write your indices this way, you can transpose and call `contiguous` on it before passing them to the data constructor:\n",
    "\n"
   ]
  },
  {
   "cell_type": "code",
   "execution_count": null,
   "id": "31cd7147",
   "metadata": {},
   "outputs": [],
   "source": [
    "import torch\n",
    "from torch_geometric.data import Data\n",
    "\n",
    "edge_index = torch.tensor([[0, 1],\n",
    "                           [1, 0],\n",
    "                           [1, 2],\n",
    "                           [2, 1]], dtype=torch.long)\n",
    "x = torch.tensor([[-1], [0], [1]], dtype=torch.float)\n",
    "\n",
    "data = Data(x=x, edge_index=edge_index.t().contiguous())\n",
    "\n",
    "data"
   ]
  },
  {
   "cell_type": "markdown",
   "id": "1843c5c5",
   "metadata": {},
   "source": [
    "Although the graph has only two edges, we need to define four index tuples to account for both directions of an undirected edge.\n",
    "\n",
    "Besides holding a number of node-level, edge-level or graph-level attributes, `Data` provides a number of useful utility functions, e.g.:\n"
   ]
  },
  {
   "cell_type": "code",
   "execution_count": null,
   "id": "96621f1e",
   "metadata": {},
   "outputs": [],
   "source": [
    "print('data.keys', data.keys)\n",
    "\n",
    "print(\"data['x']\", data['x'])\n",
    "\n",
    "for key, item in data:\n",
    "    print(f'{key} found in data')\n",
    "\n",
    "'edge_attr' in data\n",
    "\n",
    "print('data.num_nodes', data.num_nodes)\n",
    "\n",
    "print('data.num_edges', data.num_edges)\n",
    "\n",
    "print('data.num_node_features', data.num_node_features)\n",
    "\n",
    "print('data.has_isolated_nodes()', data.has_isolated_nodes())\n",
    "\n",
    "print('data.has_self_loops()',  data.has_self_loops())\n",
    "\n",
    "print('data.is_directed()', data.is_directed())\n",
    "\n",
    "# Transfer data object to GPU.\n",
    "print('torch.cuda.is_available()', torch.cuda.is_available())\n",
    "if torch.cuda.is_available():\n",
    "    device = torch.device('cuda')\n",
    "    data = data.to(device)"
   ]
  },
  {
   "cell_type": "markdown",
   "id": "19b44ba9",
   "metadata": {},
   "source": [
    "A complete list of all methods can be found here: [torch_geometric.data.Data](https://pytorch-geometric.readthedocs.io/en/latest/modules/data.html#torch_geometric.data.Data)"
   ]
  },
  {
   "cell_type": "markdown",
   "id": "407ee549",
   "metadata": {},
   "source": [
    "## Common Benchmark Datasets\n",
    "\n",
    "PyG contains a large number of common benchmark datasets, e.g., all Planetoid datasets (Cora, Citeseer, Pubmed), all graph classification datasets from http://graphkernels.cs.tu-dortmund.de and their cleaned versions, the QM7 and QM9 dataset, and a handful of 3D mesh/point cloud datasets like FAUST, ModelNet10/40 and ShapeNet.\n",
    "\n",
    "Initializing a dataset is straightforward. An initialization of a dataset will automatically download its raw files and process them to the previously described `Data` format. E.g., to load the `ENZYMES` dataset (consisting of 600 graphs within 6 classes), type:\n",
    "    "
   ]
  },
  {
   "cell_type": "code",
   "execution_count": null,
   "id": "314cbde3",
   "metadata": {},
   "outputs": [],
   "source": [
    "from torch_geometric.datasets import TUDataset\n",
    "\n",
    "dataset = TUDataset(root='/tmp/ENZYMES', name='ENZYMES')\n",
    "print('dataset', dataset)\n",
    "\n",
    "print('len(dataset))', len(dataset))\n",
    "\n",
    "print('dataset.num_classes', dataset.num_classes)\n",
    "\n",
    "print('dataset.num_node_features', dataset.num_node_features)\n",
    "\n",
    "print('dataset.num_nodes', data.num_nodes)\n",
    "\n",
    "print('dataset.num_edges', data.num_edges)"
   ]
  },
  {
   "cell_type": "markdown",
   "id": "65dabe2c",
   "metadata": {},
   "source": [
    "600 nodes in the dataset"
   ]
  },
  {
   "cell_type": "code",
   "execution_count": null,
   "id": "a6da26cf",
   "metadata": {},
   "outputs": [],
   "source": [
    "data = dataset[0]\n",
    "print('data', data)\n",
    "\n",
    "print('data.is_undirected()', data.is_undirected())"
   ]
  },
  {
   "cell_type": "markdown",
   "id": "228527c7",
   "metadata": {},
   "source": [
    "The first graph in the dataset contains 37 nodes, each one having 3 features. There are 168/2 = 84 undirected edges and the graph is assigned to exactly one class. In addition, the data object is holding exactly one graph-level target.\n",
    "\n",
    "We can even use slices, long or bool tensors to split the dataset. E.g., to create a 90/10 train/test split, type:"
   ]
  },
  {
   "cell_type": "code",
   "execution_count": null,
   "id": "7bb5d212",
   "metadata": {},
   "outputs": [],
   "source": [
    "train_dataset = dataset[:540]\n",
    "print('train_dataset', train_dataset)\n",
    "\n",
    "test_dataset = dataset[540:]\n",
    "print('test_dataset', test_dataset)\n"
   ]
  },
  {
   "cell_type": "markdown",
   "id": "1bdb6ba7",
   "metadata": {},
   "source": [
    "If you are unsure whether the dataset is already shuffled before you split, you can randomly permutate it by running:"
   ]
  },
  {
   "cell_type": "code",
   "execution_count": null,
   "id": "adc49225",
   "metadata": {},
   "outputs": [],
   "source": [
    "dataset = dataset.shuffle()\n",
    "print('dataset', dataset)"
   ]
  },
  {
   "cell_type": "markdown",
   "id": "5610bac0",
   "metadata": {},
   "source": [
    "Download Cora, the standard benchmark dataset for semi-supervised graph node classification:"
   ]
  },
  {
   "cell_type": "code",
   "execution_count": null,
   "id": "2fc25c92",
   "metadata": {},
   "outputs": [],
   "source": [
    "from torch_geometric.datasets import Planetoid\n",
    "\n",
    "dataset = Planetoid(root='/tmp/Cora', name='Cora')\n",
    "print('dataset', dataset)\n",
    "\n",
    "print('len(dataset)', len(dataset))\n",
    "\n",
    "print('dataset.num_classes', dataset.num_classes)\n",
    "\n",
    "print('dataset.num_node_features', dataset.num_node_features)\n"
   ]
  },
  {
   "cell_type": "markdown",
   "id": "62041e62",
   "metadata": {},
   "source": [
    "Here, the dataset contains only a single, undirected citation graph:\n"
   ]
  },
  {
   "cell_type": "code",
   "execution_count": null,
   "id": "d33dafc0",
   "metadata": {},
   "outputs": [],
   "source": [
    "data = dataset[0]\n",
    "print('data', data)\n",
    "\n",
    "print('data.is_undirected()', data.is_undirected())\n",
    "\n",
    "print('data.train_mask.sum().item()', data.train_mask.sum().item())\n",
    "\n",
    "print('data.val_mask.sum().item()', data.val_mask.sum().item())\n",
    "\n",
    "print('data.test_mask.sum().item()', data.test_mask.sum().item())\n"
   ]
  },
  {
   "cell_type": "markdown",
   "id": "190dd53d",
   "metadata": {},
   "source": [
    "The Data objects holds a label for each node, and additional node-level attributes: train_mask, val_mask and test_mask, where\n",
    "\n",
    "train_mask denotes against which nodes to train (140 nodes),\n",
    "\n",
    "val_mask denotes which nodes to use for validation, e.g., to perform early stopping (500 nodes),\n",
    "\n",
    "test_mask denotes against which nodes to test (1000 nodes).\n"
   ]
  },
  {
   "cell_type": "code",
   "execution_count": null,
   "id": "8d6f824c",
   "metadata": {},
   "outputs": [],
   "source": []
  }
 ],
 "metadata": {
  "kernelspec": {
   "display_name": "pytorch_quant",
   "language": "python",
   "name": "pytorch_quant"
  },
  "language_info": {
   "codemirror_mode": {
    "name": "ipython",
    "version": 3
   },
   "file_extension": ".py",
   "mimetype": "text/x-python",
   "name": "python",
   "nbconvert_exporter": "python",
   "pygments_lexer": "ipython3",
   "version": "3.9.12"
  }
 },
 "nbformat": 4,
 "nbformat_minor": 5
}
