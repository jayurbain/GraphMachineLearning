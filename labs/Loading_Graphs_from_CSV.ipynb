{
  "nbformat": 4,
  "nbformat_minor": 0,
  "metadata": {
    "colab": {
      "provenance": []
    },
    "kernelspec": {
      "name": "python3",
      "display_name": "Python 3"
    },
    "language_info": {
      "name": "python"
    }
  },
  "cells": [
    {
      "cell_type": "markdown",
      "source": [
        "## Loading Graphs from CSV\n",
        "\n",
        "Jay Urbain, PhD\n",
        "\n",
        "1/24/2023\n",
        "\n",
        "Credits: https://pytorch-geometric.readthedocs.io/en/latest/notes/load_csv.html (only small modifications).\n",
        "\n",
        "In this example, we will show how to load a set of *.csv files as input and construct a heterogeneous graph from it, which can be used as input to a heterogeneous graph model. This tutorial is also available as an executable example script in the examples/hetero directory.\n",
        "\n",
        "We are going to use the MovieLens dataset collected by the GroupLens research group. This toy dataset describes 5-star rating and tagging activity from MovieLens. The dataset contains approximately 100k ratings across more than 9k movies from more than 600 users. We are going to use this dataset to generate two node types holding data for movies and users, respectively, and one edge type connecting users and movies, representing the relation of how a user has rated a specific movie.\n",
        "\n",
        "First, we download the dataset to an arbitrary folder (in this case, the current directory):"
      ],
      "metadata": {
        "id": "eI_oiMZPEF4W"
      }
    },
    {
      "cell_type": "code",
      "source": [
        "# Add this in a Google Colab cell to install the correct version of Pytorch Geometric.\n",
        "import torch\n",
        "\n",
        "def format_pytorch_version(version):\n",
        "  return version.split('+')[0]\n",
        "\n",
        "TORCH_version = torch.__version__\n",
        "TORCH = format_pytorch_version(TORCH_version)\n",
        "\n",
        "def format_cuda_version(version):\n",
        "  return 'cu' + version.replace('.', '')\n",
        "\n",
        "CUDA_version = torch.version.cuda\n",
        "CUDA = format_cuda_version(CUDA_version)\n",
        "\n",
        "!pip install torch-scatter -f https://data.pyg.org/whl/torch-{TORCH}+{CUDA}.html\n",
        "!pip install torch-sparse -f https://data.pyg.org/whl/torch-{TORCH}+{CUDA}.html\n",
        "!pip install torch-cluster -f https://data.pyg.org/whl/torch-{TORCH}+{CUDA}.html\n",
        "!pip install torch-spline-conv -f https://data.pyg.org/whl/torch-{TORCH}+{CUDA}.html\n",
        "!pip install torch-geometric"
      ],
      "metadata": {
        "id": "A7kERHKUFqcB"
      },
      "execution_count": null,
      "outputs": []
    },
    {
      "cell_type": "code",
      "execution_count": null,
      "metadata": {
        "id": "z02QjGyFEBhB"
      },
      "outputs": [],
      "source": [
        "from torch_geometric.data import download_url, extract_zip\n",
        "\n",
        "url = 'https://files.grouplens.org/datasets/movielens/ml-latest-small.zip'\n",
        "extract_zip(download_url(url, '.'), '.')\n",
        "\n",
        "movie_path = './ml-latest-small/movies.csv'\n",
        "rating_path = './ml-latest-small/ratings.csv'"
      ]
    },
    {
      "cell_type": "markdown",
      "source": [
        "Before we create the heterogeneous graph, let’s take a look at the data."
      ],
      "metadata": {
        "id": "KfvZXy65EXGn"
      }
    },
    {
      "cell_type": "code",
      "source": [
        "import pandas as pd\n",
        "\n",
        "pd.read_csv(movie_path).head()\n"
      ],
      "metadata": {
        "id": "sSgJ4nFgEMa4"
      },
      "execution_count": null,
      "outputs": []
    },
    {
      "cell_type": "code",
      "source": [
        "pd.read_csv(rating_path).head()"
      ],
      "metadata": {
        "id": "7dmOZ_8SGIOb"
      },
      "execution_count": null,
      "outputs": []
    },
    {
      "cell_type": "markdown",
      "source": [
        "We see that the `movies.csv` file provides three columns: movieId assigns a unique identifier to each movie, while the title and genres columns represent title and genres of the given movie. We can make use of those two columns to define a feature representation that can be easily interpreted by machine learning models."
      ],
      "metadata": {
        "id": "RZwec4sfEcZI"
      }
    },
    {
      "cell_type": "markdown",
      "source": [
        "The `ratings.csv` data connects users (as given by userId) and movies (as given by movieId), and defines how a given user has rated a specific movie (rating). For simplicity, we do not make use of the additional timestamp information.\n",
        "\n",
        "For representing this data in the PyG data format, we first define a method load_node_csv() that reads in a `*.csv` file and returns a node-level feature representation `x` of shape [num_nodes, num_features]:\n"
      ],
      "metadata": {
        "id": "oVjnx3bUEiqZ"
      }
    },
    {
      "cell_type": "code",
      "source": [
        "import torch\n",
        "\n",
        "def load_node_csv(path, index_col, encoders=None, **kwargs):\n",
        "    df = pd.read_csv(path, index_col=index_col, **kwargs)\n",
        "    mapping = {index: i for i, index in enumerate(df.index.unique())}\n",
        "\n",
        "    x = None\n",
        "    if encoders is not None:\n",
        "        xs = [encoder(df[col]) for col, encoder in encoders.items()]\n",
        "        x = torch.cat(xs, dim=-1)\n",
        "\n",
        "    return x, mapping"
      ],
      "metadata": {
        "id": "i7zTSukdEjmM"
      },
      "execution_count": null,
      "outputs": []
    },
    {
      "cell_type": "markdown",
      "source": [
        "Here, `load_node_csv()` reads the `*.csv` file from path, and creates a dictionary mapping that maps its index column to a consecutive value in the range `{ 0, ..., num_rows - 1 }`. This is needed as we want our final data representation to be as compact as possible, e.g., the representation of a movie in the first row should be accessible via `x[0]`.\n",
        "\n",
        "We further utilize the concept of encoders, which define how the values of specific columns should be encoded into a numerical feature representation. For example, we can define a sentence encoder that encodes raw column strings into low-dimensional embeddings. For this, we make use of the excellent `sentence-transformers` library which provides a large number of state-of-the-art pretrained NLP embedding models:"
      ],
      "metadata": {
        "id": "2zP_weiOEnCM"
      }
    },
    {
      "cell_type": "code",
      "source": [
        "!pip install sentence-transformers"
      ],
      "metadata": {
        "id": "os-tQWXvEpGp"
      },
      "execution_count": null,
      "outputs": []
    },
    {
      "cell_type": "code",
      "source": [
        "from sentence_transformers import SentenceTransformer\n",
        "\n",
        "class SequenceEncoder(object):\n",
        "    def __init__(self, model_name='all-MiniLM-L6-v2', device=None):\n",
        "        self.device = device\n",
        "        self.model = SentenceTransformer(model_name, device=device)\n",
        "\n",
        "    @torch.no_grad()\n",
        "    def __call__(self, df):\n",
        "        x = self.model.encode(df.values, show_progress_bar=True,\n",
        "                              convert_to_tensor=True, device=self.device)\n",
        "        return x.cpu()"
      ],
      "metadata": {
        "id": "VMkFn9lAErUC"
      },
      "execution_count": null,
      "outputs": []
    },
    {
      "cell_type": "markdown",
      "source": [
        "The `SequenceEncoder` class loads a pre-trained NLP model as given by model_name, and uses it to encode a list of strings into a PyTorch tensor of shape `[num_strings, embedding_dim]`. We can use this SequenceEncoder to encode the title of the movies.csv file.\n",
        "\n",
        "In a similar fashion, we can create another encoder that converts the genres of movies, e.g., Adventure|Children|Fantasy, into categorical labels. For this, we first need to find all existing genres present in the data, create a feature representation x of shape `[num_movies, num_genres]`, and assign a 1 to `x[i, j]` in case the genre j is present in movie i:"
      ],
      "metadata": {
        "id": "EfSUoS9XEttq"
      }
    },
    {
      "cell_type": "code",
      "source": [
        "class GenresEncoder(object):\n",
        "    def __init__(self, sep='|'):\n",
        "        self.sep = sep\n",
        "\n",
        "    def __call__(self, df):\n",
        "        genres = set(g for col in df.values for g in col.split(self.sep))\n",
        "        mapping = {genre: i for i, genre in enumerate(genres)}\n",
        "\n",
        "        x = torch.zeros(len(df), len(mapping))\n",
        "        for i, col in enumerate(df.values):\n",
        "            for genre in col.split(self.sep):\n",
        "                x[i, mapping[genre]] = 1\n",
        "        return x"
      ],
      "metadata": {
        "id": "PUNUGp9yEvni"
      },
      "execution_count": null,
      "outputs": []
    },
    {
      "cell_type": "markdown",
      "source": [
        "With this, we can obtain our final representation of movies via:\n",
        "\n"
      ],
      "metadata": {
        "id": "2IPRFY-NExhS"
      }
    },
    {
      "cell_type": "code",
      "source": [
        "movie_x, movie_mapping = load_node_csv(movie_path, index_col='movieId', encoders={'title': SequenceEncoder(),\n",
        "        'genres': GenresEncoder()\n",
        "    })"
      ],
      "metadata": {
        "id": "gBWoRXqhEyKL"
      },
      "execution_count": null,
      "outputs": []
    },
    {
      "cell_type": "markdown",
      "source": [
        "Similarly, we can utilize `load_node_csv()` for obtaining a user mapping from userId to consecutive values as well. However, there is no additional feature information for users present in this dataset. As such, we do not define any encoders:"
      ],
      "metadata": {
        "id": "JjwVHBDxE1VU"
      }
    },
    {
      "cell_type": "code",
      "source": [
        "_, user_mapping = load_node_csv(rating_path, index_col='userId')"
      ],
      "metadata": {
        "id": "aBN6-oiSE2vq"
      },
      "execution_count": null,
      "outputs": []
    },
    {
      "cell_type": "markdown",
      "source": [
        "With this, we are ready to initialize our HeteroData object and pass two node types into it:"
      ],
      "metadata": {
        "id": "LL3TuxF6E56c"
      }
    },
    {
      "cell_type": "code",
      "source": [
        "from torch_geometric.data import HeteroData\n",
        "\n",
        "data = HeteroData()\n",
        "\n",
        "data['user'].num_nodes = len(user_mapping)  # Users do not have any features.\n",
        "data['movie'].x = movie_x\n",
        "\n",
        "print(data)\n"
      ],
      "metadata": {
        "id": "OOSI10jzE60x"
      },
      "execution_count": null,
      "outputs": []
    },
    {
      "cell_type": "markdown",
      "source": [
        "As users do not have any node-level information, we solely define its number of nodes. As a result, we likely need to learn distinct user embeddings via torch.nn.Embedding in an end-to-end fashion during training of a heterogeneous graph model.\n",
        "\n",
        "Next, we take a look at connecting users with movies as defined by their ratings. For this, we define a method load_edge_csv() that returns the final edge_index representation of shape [2, num_ratings] from ratings.csv, as well as any additional features present in the raw *.csv file:"
      ],
      "metadata": {
        "id": "Us9IweJLE-BO"
      }
    },
    {
      "cell_type": "code",
      "source": [
        "def load_edge_csv(path, src_index_col, src_mapping, dst_index_col, dst_mapping,\n",
        "                  encoders=None, **kwargs):\n",
        "    df = pd.read_csv(path, **kwargs)\n",
        "\n",
        "    src = [src_mapping[index] for index in df[src_index_col]]\n",
        "    dst = [dst_mapping[index] for index in df[dst_index_col]]\n",
        "    edge_index = torch.tensor([src, dst])\n",
        "\n",
        "    edge_attr = None\n",
        "    if encoders is not None:\n",
        "        edge_attrs = [encoder(df[col]) for col, encoder in encoders.items()]\n",
        "        edge_attr = torch.cat(edge_attrs, dim=-1)\n",
        "\n",
        "    return edge_index, edge_attr"
      ],
      "metadata": {
        "id": "HE46Urv6E_9T"
      },
      "execution_count": null,
      "outputs": []
    },
    {
      "cell_type": "markdown",
      "source": [
        "Here, src_index_col and dst_index_col define the index columns of source and destination nodes, respectively. We further make use of the node-level mappings src_mapping and dst_mapping to ensure that raw indices are mapped to the correct consecutive indices in our final representation. For every edge defined in the file, it looks up the forward indices in src_mapping and dst_mapping, and moves the data appropriately.\n",
        "\n",
        "Similarly to load_node_csv(), encoders are used to return additional edge-level feature information. For example, for loading the ratings from the rating column in ratings.csv, we can define an IdentityEncoder that simply converts a list of floating-point values into a PyTorch tensor:"
      ],
      "metadata": {
        "id": "Y_Ri3VnqFDAS"
      }
    },
    {
      "cell_type": "code",
      "source": [
        "class IdentityEncoder(object):\n",
        "    def __init__(self, dtype=None):\n",
        "        self.dtype = dtype\n",
        "\n",
        "    def __call__(self, df):\n",
        "        return torch.from_numpy(df.values).view(-1, 1).to(self.dtype)"
      ],
      "metadata": {
        "id": "XuGgP9DqFDtJ"
      },
      "execution_count": null,
      "outputs": []
    },
    {
      "cell_type": "markdown",
      "source": [
        "With this, we are ready to finalize our HeteroData object:"
      ],
      "metadata": {
        "id": "eLrjBjkXFGI5"
      }
    },
    {
      "cell_type": "code",
      "source": [
        "edge_index, edge_label = load_edge_csv(\n",
        "    rating_path,\n",
        "    src_index_col='userId',\n",
        "    src_mapping=user_mapping,\n",
        "    dst_index_col='movieId',\n",
        "    dst_mapping=movie_mapping,\n",
        "    encoders={'rating': IdentityEncoder(dtype=torch.long)},\n",
        ")\n",
        "\n",
        "data['user', 'rates', 'movie'].edge_index = edge_index\n",
        "data['user', 'rates', 'movie'].edge_label = edge_label\n",
        "\n",
        "print(data)\n"
      ],
      "metadata": {
        "id": "2ORUD5mvFJH3"
      },
      "execution_count": null,
      "outputs": []
    },
    {
      "cell_type": "markdown",
      "source": [
        "This HeteroData object is the native format of heterogeneous graphs in PyG and can be used as input for heterogeneous graph models."
      ],
      "metadata": {
        "id": "hO7Y_f9oFLJg"
      }
    }
  ]
}